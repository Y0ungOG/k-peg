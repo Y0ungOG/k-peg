{
 "cells": [
  {
   "cell_type": "markdown",
   "metadata": {},
   "source": [
    "${\\Large \\mbox{IE523: Financial Computing}}$\n",
    "\n",
    "$\\textbf{K-Peg Tower of Hanoi via Deque-of-Deques}$: Using the Deque \"Data-Structure\" in Python to implement the recursive solution to the $\\textit{4-Peg Tower of Hanoi Problem}$.  This Python-Code mimics the C++ code on Compass, and for those of you that are familiar with Python, this should help you understand the semantics of C++.    \n",
    "\n",
    "We conceptualize the K-Peg Tower of Hanoi Problem as a \"Deque-of-K-many-Deques\" -- ${\\sf Towers}$ is a Deque, and it has 4 entries/components that are Deques themselves. "
   ]
  },
  {
   "cell_type": "code",
   "execution_count": 1,
   "metadata": {},
   "outputs": [],
   "source": [
    "import sys\n",
    "import math\n",
    "import argparse\n",
    "\n",
    "from collections import deque\n",
    "# See https://www.geeksforgeeks.org/deque-in-python/ for details on Deques\n",
    "# Also see https://pymotw.com/2/collections/deque.html\n",
    "Towers = deque()\n",
    "\n",
    "# Global variable that keeps track of the number of steps in our solution \n",
    "number_of_steps = 0\n",
    "\n",
    "# It is always a good idea to set a limit on the depth-of-the-recursion-tree in Python\n",
    "sys.setrecursionlimit(3000)"
   ]
  },
  {
   "cell_type": "markdown",
   "metadata": {},
   "source": [
    "The function ${\\sf initialize(n)}$ first inserts the numbers $(1, 2, \\cdots, n)$ in deque \\#0 of ${\\sf Towers}$; and puts an empty-deque for deque \\#1, deque \\#2 $\\cdots$ deque \\#k"
   ]
  },
  {
   "cell_type": "code",
   "execution_count": 2,
   "metadata": {},
   "outputs": [],
   "source": [
    "def initialize() :\n",
    "    global number_of_pegs\n",
    "    global number_of_disks\n",
    "    for i in range(number_of_pegs) :\n",
    "        X = deque()\n",
    "        if (i == 0) :\n",
    "            for j in range(number_of_disks) :\n",
    "                X.append(j+1)\n",
    "        Towers.append(X)\n"
   ]
  },
  {
   "cell_type": "markdown",
   "metadata": {},
   "source": [
    "Function ${\\sf is\\_everything\\_legal()}$ checks if a larger number (i.e. a larger diameter disk) is placed on top of a smaller number (i.e. a smaller diameter disk) in any of the k Deques of ${\\sf Towers}$.  I am not suggesting that this check is efficient -- it just does the job (and can be improved, if necessary)!"
   ]
  },
  {
   "cell_type": "code",
   "execution_count": 3,
   "metadata": {},
   "outputs": [],
   "source": [
    "def is_everything_legal() :\n",
    "    global number_of_pegs\n",
    "    result = True\n",
    "    for i in range(number_of_pegs) :\n",
    "        for j in range(len(Towers[i])) :\n",
    "            for k in range(j,len(Towers[i])) :\n",
    "                if (Towers[i][k] < Towers[i][j]) :\n",
    "                    result = False\n",
    "    return(result)"
   ]
  },
  {
   "cell_type": "markdown",
   "metadata": {},
   "source": [
    "Function ${\\sf move\\_top\\_disk (source, dest)}$ moves the top-disk from ${\\sf source}$ and places it on ${\\sf dest}$.  Following this, it checks if any larger-diameter disk has been placed on a smaller diameter disk in any of the k Pegs."
   ]
  },
  {
   "cell_type": "code",
   "execution_count": 4,
   "metadata": {},
   "outputs": [],
   "source": [
    "def move_top_disk(source, dest):\n",
    "    global number_of_steps \n",
    "    number_of_steps = number_of_steps + 1\n",
    "    x = Towers[source].popleft()\n",
    "    Towers[dest].appendleft(x)\n",
    "    if (True == is_everything_legal()) :\n",
    "        y = \" (Legal)\"\n",
    "    else :\n",
    "        y = \" (Illegal)\"\n",
    "    \n",
    "    print (\"Move disk \" + str(x) + \" from Peg \" + str(source+1) + \" to Peg \" + str(dest+1) + y)"
   ]
  },
  {
   "cell_type": "code",
   "execution_count": 5,
   "metadata": {},
   "outputs": [],
   "source": [
    "def pick_the_right_number_to_move(current_number_of_disks, number_of_free_pegs) :\n",
    "    if (1 == number_of_free_pegs) :\n",
    "        return (current_number_of_disks-1)\n",
    "    else :\n",
    "        return (math.floor(current_number_of_disks/2))"
   ]
  },
  {
   "cell_type": "markdown",
   "metadata": {},
   "source": [
    "Function ${\\sf print\\_peg\\_state(m)}$ prints the state (Top-to-Bottom) of peg ${\\sf m}$ in the K-Peg Tower of Hanoi"
   ]
  },
  {
   "cell_type": "code",
   "execution_count": 6,
   "metadata": {},
   "outputs": [],
   "source": [
    "def print_peg_state(m) :\n",
    "    global number_of_steps\n",
    "    print (\"-----------------------------\")\n",
    "    print (\"State of Peg \" + str(m+1) + \" (Top to Bottom): \" + str(Towers[m]))\n",
    "    print (\"Number of Steps = \" + str(number_of_steps))\n",
    "    print (\"-----------------------------\")\n",
    "    "
   ]
  },
  {
   "cell_type": "markdown",
   "metadata": {},
   "source": [
    "This is the $\\textbf{K-Peg Recursion}$ in the write-up.  Unlike the $\\textit{C++}$-implementation of the same algorithm, we need to restore the ${\\sf deque\\_of\\_free\\_peg\\_numbers}$ to its original-form after the three-component ${\\sf move}$-calls.  In $\\textit{C++}$-implementation, the variables are passed $\\textit{by-value}$, and when control is returned to the parent, the scope changes, and the parent's version of the deque-of-free-pegs is automatically restored.  This is not the case with its $\\textit{Python}$-transliteration.  Cut a long story short, the $\\textit{Python}$-implementation has to do a ${\\sf pop}$ and an ${\\sf append}$ in the end of the recursion to make things work...  "
   ]
  },
  {
   "cell_type": "code",
   "execution_count": 7,
   "metadata": {},
   "outputs": [],
   "source": [
    "def move(current_number_of_disks, source_peg_number, destination_peg_number, deque_of_free_peg_numbers) :\n",
    "    global number_of_steps\n",
    "    if (len(deque_of_free_peg_numbers) != 0) : \n",
    "        if (current_number_of_disks > 1) :\n",
    "            m = pick_the_right_number_to_move(current_number_of_disks, len(deque_of_free_peg_numbers))\n",
    "            intermediate_peg = deque_of_free_peg_numbers.pop()\n",
    "            deque_of_free_peg_numbers.append(destination_peg_number)\n",
    "            move (m, source_peg_number, intermediate_peg, deque_of_free_peg_numbers)\n",
    "            deque_of_free_peg_numbers.pop()\n",
    "            move (current_number_of_disks-m, source_peg_number, destination_peg_number, deque_of_free_peg_numbers)\n",
    "            deque_of_free_peg_numbers.append(source_peg_number)\n",
    "            move (m, intermediate_peg, destination_peg_number, deque_of_free_peg_numbers)\n",
    "            deque_of_free_peg_numbers.pop()\n",
    "            deque_of_free_peg_numbers.append(intermediate_peg)\n",
    "        else :\n",
    "            # current_number_of_disks == 1, in this case\n",
    "            move_top_disk (source_peg_number, destination_peg_number)\n",
    "    else :\n",
    "        # there are no free pefs\n",
    "        move_top_disk (source_peg_number, destination_peg_number)\n"
   ]
  },
  {
   "cell_type": "code",
   "execution_count": 8,
   "metadata": {},
   "outputs": [],
   "source": [
    "def print_problem_details() :\n",
    "    global number_of_disks, number_of_pegs\n",
    "    print (\"**************************************************************\")\n",
    "    print (str(number_of_pegs)+\"-Tower of Hanoi Problem, with \" + str(number_of_disks) + \"-many disks on leftmost peg\")\n",
    "    print (\"**************************************************************\")"
   ]
  },
  {
   "cell_type": "markdown",
   "metadata": {},
   "source": [
    "Doing the needful to move $n$-many disks from the leftmost-peg to the rightmost-peg, using legal-moves for the $K$-Peg Tower of Hanoi Problem... "
   ]
  },
  {
   "cell_type": "code",
   "execution_count": 9,
   "metadata": {},
   "outputs": [
    {
     "name": "stdout",
     "output_type": "stream",
     "text": [
      "**************************************************************\n",
      "11-Tower of Hanoi Problem, with 20-many disks on leftmost peg\n",
      "**************************************************************\n",
      "-----------------------------\n",
      "State of Peg 1 (Top to Bottom): deque([1, 2, 3, 4, 5, 6, 7, 8, 9, 10, 11, 12, 13, 14, 15, 16, 17, 18, 19, 20])\n",
      "Number of Steps = 0\n",
      "-----------------------------\n",
      "Move disk 1 from Peg 1 to Peg 11 (Legal)\n",
      "Move disk 2 from Peg 1 to Peg 10 (Legal)\n",
      "Move disk 1 from Peg 11 to Peg 10 (Legal)\n",
      "Move disk 3 from Peg 1 to Peg 9 (Legal)\n",
      "Move disk 4 from Peg 1 to Peg 8 (Legal)\n",
      "Move disk 5 from Peg 1 to Peg 11 (Legal)\n",
      "Move disk 4 from Peg 8 to Peg 11 (Legal)\n",
      "Move disk 3 from Peg 9 to Peg 11 (Legal)\n",
      "Move disk 1 from Peg 10 to Peg 1 (Legal)\n",
      "Move disk 2 from Peg 10 to Peg 11 (Legal)\n",
      "Move disk 1 from Peg 1 to Peg 11 (Legal)\n",
      "Move disk 6 from Peg 1 to Peg 10 (Legal)\n",
      "Move disk 7 from Peg 1 to Peg 9 (Legal)\n",
      "Move disk 6 from Peg 10 to Peg 9 (Legal)\n",
      "Move disk 8 from Peg 1 to Peg 8 (Legal)\n",
      "Move disk 9 from Peg 1 to Peg 7 (Legal)\n",
      "Move disk 10 from Peg 1 to Peg 10 (Legal)\n",
      "Move disk 9 from Peg 7 to Peg 10 (Legal)\n",
      "Move disk 8 from Peg 8 to Peg 10 (Legal)\n",
      "Move disk 6 from Peg 9 to Peg 1 (Legal)\n",
      "Move disk 7 from Peg 9 to Peg 10 (Legal)\n",
      "Move disk 6 from Peg 1 to Peg 10 (Legal)\n",
      "Move disk 1 from Peg 11 to Peg 10 (Legal)\n",
      "Move disk 2 from Peg 11 to Peg 1 (Legal)\n",
      "Move disk 1 from Peg 10 to Peg 1 (Legal)\n",
      "Move disk 3 from Peg 11 to Peg 9 (Legal)\n",
      "Move disk 4 from Peg 11 to Peg 8 (Legal)\n",
      "Move disk 5 from Peg 11 to Peg 10 (Legal)\n",
      "Move disk 4 from Peg 8 to Peg 10 (Legal)\n",
      "Move disk 3 from Peg 9 to Peg 10 (Legal)\n",
      "Move disk 1 from Peg 1 to Peg 11 (Legal)\n",
      "Move disk 2 from Peg 1 to Peg 10 (Legal)\n",
      "Move disk 1 from Peg 11 to Peg 10 (Legal)\n",
      "Move disk 11 from Peg 1 to Peg 9 (Legal)\n",
      "Move disk 12 from Peg 1 to Peg 11 (Legal)\n",
      "Move disk 11 from Peg 9 to Peg 11 (Legal)\n",
      "Move disk 13 from Peg 1 to Peg 8 (Legal)\n",
      "Move disk 14 from Peg 1 to Peg 7 (Legal)\n",
      "Move disk 15 from Peg 1 to Peg 9 (Legal)\n",
      "Move disk 14 from Peg 7 to Peg 9 (Legal)\n",
      "Move disk 13 from Peg 8 to Peg 9 (Legal)\n",
      "Move disk 11 from Peg 11 to Peg 1 (Legal)\n",
      "Move disk 12 from Peg 11 to Peg 9 (Legal)\n",
      "Move disk 11 from Peg 1 to Peg 9 (Legal)\n",
      "Move disk 16 from Peg 1 to Peg 11 (Legal)\n",
      "Move disk 17 from Peg 1 to Peg 8 (Legal)\n",
      "Move disk 16 from Peg 11 to Peg 8 (Legal)\n",
      "Move disk 18 from Peg 1 to Peg 7 (Legal)\n",
      "Move disk 19 from Peg 1 to Peg 6 (Legal)\n",
      "Move disk 20 from Peg 1 to Peg 11 (Legal)\n",
      "Move disk 19 from Peg 6 to Peg 11 (Legal)\n",
      "Move disk 18 from Peg 7 to Peg 11 (Legal)\n",
      "Move disk 16 from Peg 8 to Peg 1 (Legal)\n",
      "Move disk 17 from Peg 8 to Peg 11 (Legal)\n",
      "Move disk 16 from Peg 1 to Peg 11 (Legal)\n",
      "Move disk 11 from Peg 9 to Peg 11 (Legal)\n",
      "Move disk 12 from Peg 9 to Peg 1 (Legal)\n",
      "Move disk 11 from Peg 11 to Peg 1 (Legal)\n",
      "Move disk 13 from Peg 9 to Peg 8 (Legal)\n",
      "Move disk 14 from Peg 9 to Peg 7 (Legal)\n",
      "Move disk 15 from Peg 9 to Peg 11 (Legal)\n",
      "Move disk 14 from Peg 7 to Peg 11 (Legal)\n",
      "Move disk 13 from Peg 8 to Peg 11 (Legal)\n",
      "Move disk 11 from Peg 1 to Peg 9 (Legal)\n",
      "Move disk 12 from Peg 1 to Peg 11 (Legal)\n",
      "Move disk 11 from Peg 9 to Peg 11 (Legal)\n",
      "Move disk 1 from Peg 10 to Peg 1 (Legal)\n",
      "Move disk 2 from Peg 10 to Peg 11 (Legal)\n",
      "Move disk 1 from Peg 1 to Peg 11 (Legal)\n",
      "Move disk 3 from Peg 10 to Peg 9 (Legal)\n",
      "Move disk 4 from Peg 10 to Peg 8 (Legal)\n",
      "Move disk 5 from Peg 10 to Peg 1 (Legal)\n",
      "Move disk 4 from Peg 8 to Peg 1 (Legal)\n",
      "Move disk 3 from Peg 9 to Peg 1 (Legal)\n",
      "Move disk 1 from Peg 11 to Peg 10 (Legal)\n",
      "Move disk 2 from Peg 11 to Peg 1 (Legal)\n",
      "Move disk 1 from Peg 10 to Peg 1 (Legal)\n",
      "Move disk 6 from Peg 10 to Peg 11 (Legal)\n",
      "Move disk 7 from Peg 10 to Peg 9 (Legal)\n",
      "Move disk 6 from Peg 11 to Peg 9 (Legal)\n",
      "Move disk 8 from Peg 10 to Peg 8 (Legal)\n",
      "Move disk 9 from Peg 10 to Peg 7 (Legal)\n",
      "Move disk 10 from Peg 10 to Peg 11 (Legal)\n",
      "Move disk 9 from Peg 7 to Peg 11 (Legal)\n",
      "Move disk 8 from Peg 8 to Peg 11 (Legal)\n",
      "Move disk 6 from Peg 9 to Peg 10 (Legal)\n",
      "Move disk 7 from Peg 9 to Peg 11 (Legal)\n",
      "Move disk 6 from Peg 10 to Peg 11 (Legal)\n",
      "Move disk 1 from Peg 1 to Peg 11 (Legal)\n",
      "Move disk 2 from Peg 1 to Peg 10 (Legal)\n",
      "Move disk 1 from Peg 11 to Peg 10 (Legal)\n",
      "Move disk 3 from Peg 1 to Peg 9 (Legal)\n",
      "Move disk 4 from Peg 1 to Peg 8 (Legal)\n",
      "Move disk 5 from Peg 1 to Peg 11 (Legal)\n",
      "Move disk 4 from Peg 8 to Peg 11 (Legal)\n",
      "Move disk 3 from Peg 9 to Peg 11 (Legal)\n",
      "Move disk 1 from Peg 10 to Peg 1 (Legal)\n",
      "Move disk 2 from Peg 10 to Peg 11 (Legal)\n",
      "Move disk 1 from Peg 1 to Peg 11 (Legal)\n",
      "-----------------------------\n",
      "State of Peg 11 (Top to Bottom): deque([1, 2, 3, 4, 5, 6, 7, 8, 9, 10, 11, 12, 13, 14, 15, 16, 17, 18, 19, 20])\n",
      "Number of Steps = 99\n",
      "-----------------------------\n"
     ]
    }
   ],
   "source": [
    "number_of_disks = 20\n",
    "\n",
    "number_of_pegs = 11\n",
    "initialize()\n",
    "\n",
    "print_problem_details()\n",
    "\n",
    "deque_of_free_peg_numbers = deque()\n",
    "for i in range(1,number_of_pegs-1) :\n",
    "    deque_of_free_peg_numbers.append(i)\n",
    "\n",
    "print_peg_state(0)  \n",
    "move(number_of_disks, 0, number_of_pegs-1, deque_of_free_peg_numbers)\n",
    "print_peg_state(number_of_pegs-1)"
   ]
  },
  {
   "cell_type": "code",
   "execution_count": null,
   "metadata": {},
   "outputs": [],
   "source": []
  }
 ],
 "metadata": {
  "kernelspec": {
   "display_name": "Python 3 (ipykernel)",
   "language": "python",
   "name": "python3"
  },
  "language_info": {
   "codemirror_mode": {
    "name": "ipython",
    "version": 3
   },
   "file_extension": ".py",
   "mimetype": "text/x-python",
   "name": "python",
   "nbconvert_exporter": "python",
   "pygments_lexer": "ipython3",
   "version": "3.9.12"
  }
 },
 "nbformat": 4,
 "nbformat_minor": 2
}
